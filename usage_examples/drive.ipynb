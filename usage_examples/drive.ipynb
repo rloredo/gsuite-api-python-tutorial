{
 "cells": [
  {
   "cell_type": "code",
   "execution_count": 1,
   "source": [
    "import sys\n",
    "sys.path.append('../')\n",
    "\n",
    "from modules.Service import Service\n",
    "from modules.Drive import Drive\n",
    "\n",
    "s = Service(\"../credentials/gsuite-api-python-tutorial.json\", \"drive\")\n",
    "drive = Drive(s.service)\n",
    "\n",
    "\n",
    "folder_id = \"1HNDj2rEMc-Cj_H53rCnyyyn4J0lj_iTo\"\n",
    "files = drive.ls(folder_id)\n"
   ],
   "outputs": [],
   "metadata": {}
  },
  {
   "cell_type": "code",
   "execution_count": 2,
   "source": [
    "files"
   ],
   "outputs": [
    {
     "output_type": "execute_result",
     "data": {
      "text/plain": [
       "[{'id': '1wK6iqSnMMXwd0bS8sE8CgXpn3l2aLriip6PNkgOoKoc',\n",
       "  'name': 'sheet_doc_1',\n",
       "  'mimeType': 'application/vnd.google-apps.spreadsheet',\n",
       "  'createdTime': '2021-09-05T13:24:33.223Z',\n",
       "  'modifiedTime': '2021-09-05T13:24:41.413Z',\n",
       "  'owners': [{'kind': 'drive#user',\n",
       "    'displayName': 'Rodrigo L.',\n",
       "    'photoLink': 'https://lh3.googleusercontent.com/a-/AOh14GiCKmlfeJJRNaL6AxK3iB_u5wPzvy25PzMLrCRCig=s64',\n",
       "    'me': False,\n",
       "    'permissionId': '07423264083932022429',\n",
       "    'emailAddress': 'loredo.rod@gmail.com'}]},\n",
       " {'id': '1mh-Y3SVXm-acNQwf4z-r6ouPtp05IgorzEpgpw-IdaE',\n",
       "  'name': 'test_doc_1',\n",
       "  'mimeType': 'application/vnd.google-apps.document',\n",
       "  'createdTime': '2021-09-05T13:24:18.952Z',\n",
       "  'modifiedTime': '2021-09-05T13:24:27.472Z',\n",
       "  'owners': [{'kind': 'drive#user',\n",
       "    'displayName': 'Rodrigo L.',\n",
       "    'photoLink': 'https://lh3.googleusercontent.com/a-/AOh14GiCKmlfeJJRNaL6AxK3iB_u5wPzvy25PzMLrCRCig=s64',\n",
       "    'me': False,\n",
       "    'permissionId': '07423264083932022429',\n",
       "    'emailAddress': 'loredo.rod@gmail.com'}]}]"
      ]
     },
     "metadata": {},
     "execution_count": 2
    }
   ],
   "metadata": {}
  }
 ],
 "metadata": {
  "kernelspec": {
   "name": "python3",
   "display_name": "Python 3.9.1 64-bit ('base39': pyenv)"
  },
  "language_info": {
   "codemirror_mode": {
    "name": "ipython",
    "version": 3
   },
   "file_extension": ".py",
   "mimetype": "text/x-python",
   "name": "python",
   "nbconvert_exporter": "python",
   "pygments_lexer": "ipython3",
   "version": "3.9.1"
  },
  "interpreter": {
   "hash": "c038f18b803d8a274d41df628bb338da673352af9b701fc5c172e59d00b53e04"
  }
 },
 "nbformat": 4,
 "nbformat_minor": 5
}